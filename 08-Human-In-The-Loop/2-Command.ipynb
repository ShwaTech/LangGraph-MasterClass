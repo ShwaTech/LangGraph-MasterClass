{
 "cells": [
  {
   "cell_type": "markdown",
   "id": "8614ad62",
   "metadata": {},
   "source": [
    "All Imports ??"
   ]
  },
  {
   "cell_type": "code",
   "execution_count": 1,
   "id": "176d5b7f",
   "metadata": {},
   "outputs": [],
   "source": [
    "from typing import TypedDict\n",
    "from langgraph.graph import StateGraph, START, END\n",
    "from langgraph.types import Command"
   ]
  },
  {
   "cell_type": "markdown",
   "id": "244e15f8",
   "metadata": {},
   "source": [
    "Definition of State ??"
   ]
  },
  {
   "cell_type": "code",
   "execution_count": 2,
   "id": "02d10a7c",
   "metadata": {},
   "outputs": [],
   "source": [
    "class State(TypedDict):\n",
    "    text: str"
   ]
  },
  {
   "cell_type": "markdown",
   "id": "6c7ebd12",
   "metadata": {},
   "source": [
    "Definition of the first node in the graph ??"
   ]
  },
  {
   "cell_type": "code",
   "execution_count": 3,
   "id": "c97ec40b",
   "metadata": {},
   "outputs": [],
   "source": [
    "def node_a(state: State) -> Command:\n",
    "    print(\"Node A\")\n",
    "    return Command(\n",
    "        goto=\"node_b\",\n",
    "        update={\n",
    "            \"text\": state[\"text\"] + \"a\"\n",
    "        }\n",
    "    )"
   ]
  },
  {
   "cell_type": "markdown",
   "id": "332fa0f0",
   "metadata": {},
   "source": [
    "Definition of the second node in the graph ??"
   ]
  },
  {
   "cell_type": "code",
   "execution_count": 4,
   "id": "aacf7c31",
   "metadata": {},
   "outputs": [],
   "source": [
    "def node_b(state: State) -> Command:\n",
    "    print(\"Node B\")\n",
    "    return Command(\n",
    "        goto=\"node_c\",\n",
    "        update={\n",
    "            \"text\": state[\"text\"] + \"b\"\n",
    "        }\n",
    "    )"
   ]
  },
  {
   "cell_type": "markdown",
   "id": "1ee81638",
   "metadata": {},
   "source": [
    "Definition of the third node in the graph ??"
   ]
  },
  {
   "cell_type": "code",
   "execution_count": 5,
   "id": "76586212",
   "metadata": {},
   "outputs": [],
   "source": [
    "def node_c(state: State) -> Command:\n",
    "    print(\"Node C\")\n",
    "    return Command(\n",
    "        goto=END,\n",
    "        update={\n",
    "            \"text\": state[\"text\"] + \"c\"\n",
    "        }\n",
    "    )"
   ]
  },
  {
   "cell_type": "markdown",
   "id": "9f2ba61b",
   "metadata": {},
   "source": [
    "Start building the graph ??"
   ]
  },
  {
   "cell_type": "code",
   "execution_count": 6,
   "id": "e4efb658",
   "metadata": {},
   "outputs": [],
   "source": [
    "graph_builder = StateGraph(State)\n",
    "\n",
    "graph_builder.add_node(\"node_a\", node_a)\n",
    "graph_builder.add_node(\"node_b\", node_b)\n",
    "graph_builder.add_node(\"node_c\", node_c)\n",
    "\n",
    "graph_builder.set_entry_point(\"node_a\")\n",
    "\n",
    "graph = graph_builder.compile()"
   ]
  },
  {
   "cell_type": "markdown",
   "id": "3a208422",
   "metadata": {},
   "source": [
    "Testing the graph ??"
   ]
  },
  {
   "cell_type": "code",
   "execution_count": 7,
   "id": "21c47351",
   "metadata": {},
   "outputs": [
    {
     "name": "stdout",
     "output_type": "stream",
     "text": [
      "Node A\n",
      "Node B\n",
      "Node C\n"
     ]
    },
    {
     "data": {
      "text/plain": [
       "{'text': 'ShwaTechabc'}"
      ]
     },
     "execution_count": 7,
     "metadata": {},
     "output_type": "execute_result"
    }
   ],
   "source": [
    "response = graph.invoke({\n",
    "    \"text\": \"ShwaTech\"\n",
    "})\n",
    "\n",
    "response"
   ]
  }
 ],
 "metadata": {
  "kernelspec": {
   "display_name": "LangGraph-env",
   "language": "python",
   "name": "python3"
  },
  "language_info": {
   "codemirror_mode": {
    "name": "ipython",
    "version": 3
   },
   "file_extension": ".py",
   "mimetype": "text/x-python",
   "name": "python",
   "nbconvert_exporter": "python",
   "pygments_lexer": "ipython3",
   "version": "3.11.13"
  }
 },
 "nbformat": 4,
 "nbformat_minor": 5
}
