{
 "cells": [
  {
   "cell_type": "markdown",
   "id": "8994c8fc",
   "metadata": {},
   "source": [
    "All imports ??"
   ]
  },
  {
   "cell_type": "code",
   "execution_count": 1,
   "id": "6f525c6b",
   "metadata": {},
   "outputs": [],
   "source": [
    "from typing import TypedDict\n",
    "from langgraph.graph import StateGraph, START, END\n",
    "from langgraph.types import Command, interrupt\n",
    "from langgraph.checkpoint.memory import MemorySaver"
   ]
  },
  {
   "cell_type": "markdown",
   "id": "498555aa",
   "metadata": {},
   "source": [
    "Initialize MemorySaver Object ??"
   ]
  },
  {
   "cell_type": "code",
   "execution_count": 2,
   "id": "c1d73f32",
   "metadata": {},
   "outputs": [],
   "source": [
    "memory = MemorySaver()"
   ]
  },
  {
   "cell_type": "markdown",
   "id": "bea5c781",
   "metadata": {},
   "source": [
    "Defination of the State ??"
   ]
  },
  {
   "cell_type": "code",
   "execution_count": 3,
   "id": "bc9791f5",
   "metadata": {},
   "outputs": [],
   "source": [
    "class State(TypedDict):\n",
    "    value: str"
   ]
  },
  {
   "cell_type": "markdown",
   "id": "b18e98fa",
   "metadata": {},
   "source": [
    "Definition of the first node in the graph ??"
   ]
  },
  {
   "cell_type": "code",
   "execution_count": 4,
   "id": "108c5296",
   "metadata": {},
   "outputs": [],
   "source": [
    "def node_a(state: State):\n",
    "    print(\"Node A\")\n",
    "    return Command(\n",
    "        goto=\"node_b\",\n",
    "        update={\n",
    "            \"value\": state[\"value\"] + \"a\"\n",
    "        }\n",
    "    )"
   ]
  },
  {
   "cell_type": "markdown",
   "id": "2dcafeca",
   "metadata": {},
   "source": [
    "Definition of the second node in the graph with interrupt ??"
   ]
  },
  {
   "cell_type": "code",
   "execution_count": 5,
   "id": "f14d5967",
   "metadata": {},
   "outputs": [],
   "source": [
    "def node_b(state: State):\n",
    "    print(\"Node B\")\n",
    "    human_response = interrupt(\"Do you want to go to C or D? Type (C/D): \")\n",
    "    \n",
    "    print(\"Human Review Values: \", human_response)\n",
    "    \n",
    "    if human_response == \"C\":\n",
    "        return Command(\n",
    "            goto=\"node_c\",\n",
    "            update={\n",
    "                \"value\": state[\"value\"] + \"b\"\n",
    "            }\n",
    "        )\n",
    "    elif human_response == \"D\":\n",
    "        return Command(\n",
    "            goto=\"node_d\",\n",
    "            update={\n",
    "                \"value\": state[\"value\"] + \"b\"\n",
    "            }\n",
    "        )"
   ]
  },
  {
   "cell_type": "markdown",
   "id": "007f6de9",
   "metadata": {},
   "source": [
    "Definition of the third node in the graph ??"
   ]
  },
  {
   "cell_type": "code",
   "execution_count": 6,
   "id": "4a8d902f",
   "metadata": {},
   "outputs": [],
   "source": [
    "def node_c(state: State):\n",
    "    print(\"Node C\")\n",
    "    return Command(\n",
    "        goto=END,\n",
    "        update={\n",
    "            \"value\": state[\"value\"] + \"c\"\n",
    "        }\n",
    "    )"
   ]
  },
  {
   "cell_type": "markdown",
   "id": "10cd355c",
   "metadata": {},
   "source": [
    "Definition of the forth node in the graph ??"
   ]
  },
  {
   "cell_type": "code",
   "execution_count": 7,
   "id": "e92a25a5",
   "metadata": {},
   "outputs": [],
   "source": [
    "def node_d(state: State):\n",
    "    print(\"Node D\")\n",
    "    return Command(\n",
    "        goto=END,\n",
    "        update={\n",
    "            \"value\": state[\"value\"] + \"d\"\n",
    "        }\n",
    "    )"
   ]
  },
  {
   "cell_type": "markdown",
   "id": "bae7f641",
   "metadata": {},
   "source": [
    "Start Building the graph ??"
   ]
  },
  {
   "cell_type": "code",
   "execution_count": 8,
   "id": "54c36a54",
   "metadata": {},
   "outputs": [],
   "source": [
    "graph_builder = StateGraph(State)\n",
    "\n",
    "graph_builder.add_node(\"node_a\", node_a)\n",
    "graph_builder.add_node(\"node_b\", node_b)\n",
    "graph_builder.add_node(\"node_c\", node_c)\n",
    "graph_builder.add_node(\"node_d\", node_d)\n",
    "\n",
    "graph_builder.set_entry_point(\"node_a\")\n",
    "\n",
    "graph = graph_builder.compile(checkpointer=memory)"
   ]
  },
  {
   "cell_type": "markdown",
   "id": "12c2492c",
   "metadata": {},
   "source": [
    "Testing The Graph ??"
   ]
  },
  {
   "cell_type": "code",
   "execution_count": 12,
   "id": "103aeb92",
   "metadata": {},
   "outputs": [
    {
     "name": "stdout",
     "output_type": "stream",
     "text": [
      "Node A\n",
      "Node B\n"
     ]
    },
    {
     "data": {
      "text/plain": [
       "[{'node_a': {'value': 'a'}},\n",
       " {'__interrupt__': (Interrupt(value='Do you want to go to C or D? Type (C/D): ', id='6d684526e055577d80bd852c68d50ea6'),)}]"
      ]
     },
     "execution_count": 12,
     "metadata": {},
     "output_type": "execute_result"
    }
   ],
   "source": [
    "config = {\n",
    "    \"configurable\": {\"thread_id\": \"1\"}\n",
    "}\n",
    "\n",
    "initialState = {\n",
    "    \"value\": \"\"\n",
    "}\n",
    "\n",
    "first_response = graph.invoke(initialState, config, stream_mode=\"updates\")\n",
    "\n",
    "first_response"
   ]
  },
  {
   "cell_type": "code",
   "execution_count": 13,
   "id": "16ca54d3",
   "metadata": {},
   "outputs": [
    {
     "data": {
      "text/plain": [
       "('node_b',)"
      ]
     },
     "execution_count": 13,
     "metadata": {},
     "output_type": "execute_result"
    }
   ],
   "source": [
    "graph.get_state(config).next"
   ]
  },
  {
   "cell_type": "code",
   "execution_count": 14,
   "id": "bf783baf",
   "metadata": {},
   "outputs": [
    {
     "name": "stdout",
     "output_type": "stream",
     "text": [
      "Node B\n",
      "Human Review Values:  D\n",
      "Node D\n"
     ]
    },
    {
     "data": {
      "text/plain": [
       "[{'node_b': {'value': 'ab'}}, {'node_d': {'value': 'abd'}}]"
      ]
     },
     "execution_count": 14,
     "metadata": {},
     "output_type": "execute_result"
    }
   ],
   "source": [
    "second_response = graph.invoke(Command(resume=\"D\"), config=config, stream_mode=\"updates\")\n",
    "\n",
    "second_response"
   ]
  },
  {
   "cell_type": "code",
   "execution_count": 15,
   "id": "48af676c",
   "metadata": {},
   "outputs": [
    {
     "data": {
      "text/plain": [
       "()"
      ]
     },
     "execution_count": 15,
     "metadata": {},
     "output_type": "execute_result"
    }
   ],
   "source": [
    "graph.get_state(config).next"
   ]
  }
 ],
 "metadata": {
  "kernelspec": {
   "display_name": "LangGraph-env",
   "language": "python",
   "name": "python3"
  },
  "language_info": {
   "codemirror_mode": {
    "name": "ipython",
    "version": 3
   },
   "file_extension": ".py",
   "mimetype": "text/x-python",
   "name": "python",
   "nbconvert_exporter": "python",
   "pygments_lexer": "ipython3",
   "version": "3.11.13"
  }
 },
 "nbformat": 4,
 "nbformat_minor": 5
}
