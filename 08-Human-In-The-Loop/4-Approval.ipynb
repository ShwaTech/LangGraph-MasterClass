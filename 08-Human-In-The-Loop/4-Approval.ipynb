{
 "cells": [
  {
   "cell_type": "code",
   "execution_count": 1,
   "id": "e34699b2",
   "metadata": {},
   "outputs": [],
   "source": [
    "from typing import TypedDict, Annotated, List\n",
    "from langchain_groq import ChatGroq\n",
    "from langchain_community.tools import TavilySearchResults\n",
    "from langchain_core.messages import HumanMessage\n",
    "from langgraph.graph import StateGraph, START, END, add_messages\n",
    "from langgraph.checkpoint.memory import MemorySaver\n",
    "from langgraph.prebuilt import ToolNode"
   ]
  },
  {
   "cell_type": "code",
   "execution_count": 2,
   "id": "b7c75d0c",
   "metadata": {},
   "outputs": [],
   "source": [
    "import os\n",
    "from dotenv import load_dotenv\n",
    "load_dotenv()\n",
    "\n",
    "os.environ[\"GROQ_API_KEY\"] = os.getenv(\"GROQ_API_KEY\")\n",
    "os.environ[\"TAVILY_API_KEY\"] = os.getenv(\"TAVILY_API_KEY\")"
   ]
  },
  {
   "cell_type": "code",
   "execution_count": 3,
   "id": "b0f75671",
   "metadata": {},
   "outputs": [],
   "source": [
    "memory = MemorySaver()"
   ]
  },
  {
   "cell_type": "code",
   "execution_count": 4,
   "id": "5a1cc4dc",
   "metadata": {},
   "outputs": [
    {
     "name": "stderr",
     "output_type": "stream",
     "text": [
      "/tmp/ipykernel_36658/3426219496.py:1: LangChainDeprecationWarning: The class `TavilySearchResults` was deprecated in LangChain 0.3.25 and will be removed in 1.0. An updated version of the class exists in the :class:`~langchain-tavily package and should be used instead. To use it run `pip install -U :class:`~langchain-tavily` and import as `from :class:`~langchain_tavily import TavilySearch``.\n",
      "  search_tool = TavilySearchResults(max_results=2)\n"
     ]
    }
   ],
   "source": [
    "search_tool = TavilySearchResults(max_results=2)\n",
    "tools = [search_tool]"
   ]
  },
  {
   "cell_type": "code",
   "execution_count": 5,
   "id": "458481ae",
   "metadata": {},
   "outputs": [],
   "source": [
    "llm = ChatGroq(model_name=\"llama-3.3-70b-versatile\")\n",
    "\n",
    "llm_with_tools = llm.bind_tools(tools=tools)"
   ]
  },
  {
   "cell_type": "code",
   "execution_count": 6,
   "id": "a41060a2",
   "metadata": {},
   "outputs": [],
   "source": [
    "class AgentState(TypedDict):\n",
    "    messages: Annotated[List, add_messages]"
   ]
  },
  {
   "cell_type": "code",
   "execution_count": 7,
   "id": "2cd51243",
   "metadata": {},
   "outputs": [],
   "source": [
    "def model(state: AgentState):\n",
    "    return {\n",
    "        \"messages\": [llm_with_tools.invoke(state[\"messages\"])]\n",
    "    }"
   ]
  },
  {
   "cell_type": "code",
   "execution_count": 8,
   "id": "e24bcbe0",
   "metadata": {},
   "outputs": [],
   "source": [
    "def tools_router(state: AgentState):\n",
    "    last_message = state[\"messages\"][-1]\n",
    "    \n",
    "    if (hasattr(last_message, \"tool_calls\") and len(last_message.tool_calls) > 0):\n",
    "        return \"tools\"\n",
    "    else:\n",
    "        return END"
   ]
  },
  {
   "cell_type": "code",
   "execution_count": 9,
   "id": "787b9064",
   "metadata": {},
   "outputs": [],
   "source": [
    "graph_builder = StateGraph(AgentState)\n",
    "\n",
    "graph_builder.add_node(model, \"model\")\n",
    "graph_builder.add_node(\"tools\", ToolNode(tools=tools))\n",
    "\n",
    "graph_builder.set_entry_point(\"model\")\n",
    "\n",
    "graph_builder.add_conditional_edges(\"model\", tools_router)\n",
    "graph_builder.add_edge(\"tools\", \"model\")\n",
    "\n",
    "graph = graph_builder.compile(checkpointer=memory, interrupt_before=[\"tools\"])"
   ]
  },
  {
   "cell_type": "code",
   "execution_count": 11,
   "id": "2435572c",
   "metadata": {},
   "outputs": [
    {
     "name": "stdout",
     "output_type": "stream",
     "text": [
      "================================\u001b[1m Human Message \u001b[0m=================================\n",
      "\n",
      "What is the current weather in Chennai?\n",
      "==================================\u001b[1m Ai Message \u001b[0m==================================\n",
      "Tool Calls:\n",
      "  tavily_search_results_json (7etwpywjx)\n",
      " Call ID: 7etwpywjx\n",
      "  Args:\n",
      "    query: current weather in Chennai\n"
     ]
    }
   ],
   "source": [
    "config = {\n",
    "    \"configurable\": {\n",
    "        \"thread_id\": 1\n",
    "    }\n",
    "}\n",
    "\n",
    "\n",
    "events = graph.stream(\n",
    "    {\n",
    "        \"messages\": [HumanMessage(content=\"What is the current weather in Chennai?\")]\n",
    "    },\n",
    "    config=config,\n",
    "    stream_mode=\"values\"\n",
    ")\n",
    "\n",
    "for event in events:\n",
    "    event[\"messages\"][-1].pretty_print()"
   ]
  },
  {
   "cell_type": "code",
   "execution_count": 12,
   "id": "bbc5e744",
   "metadata": {},
   "outputs": [
    {
     "data": {
      "text/plain": [
       "('tools',)"
      ]
     },
     "execution_count": 12,
     "metadata": {},
     "output_type": "execute_result"
    }
   ],
   "source": [
    "snapshot = graph.get_state(config=config)\n",
    "\n",
    "snapshot.next"
   ]
  },
  {
   "cell_type": "code",
   "execution_count": 13,
   "id": "cdef1298",
   "metadata": {},
   "outputs": [
    {
     "name": "stdout",
     "output_type": "stream",
     "text": [
      "==================================\u001b[1m Ai Message \u001b[0m==================================\n",
      "Tool Calls:\n",
      "  tavily_search_results_json (7etwpywjx)\n",
      " Call ID: 7etwpywjx\n",
      "  Args:\n",
      "    query: current weather in Chennai\n",
      "=================================\u001b[1m Tool Message \u001b[0m=================================\n",
      "Name: tavily_search_results_json\n",
      "\n",
      "[{\"title\": \"Chennai weather in September 2025 - Weather25.com\", \"url\": \"https://www.weather25.com/asia/india/tamil-nadu/chennai?page=month&month=September\", \"content\": \"weather25.com\\nSearch\\nweather in India\\nRemove from your favorite locations\\nAdd to my locations\\nShare\\nweather in India\\n\\n# Chennai weather in September 2025\\n\\nPatchy rain possible\\nPatchy light rain\\nLight rain shower\\nPatchy rain possible\\nPatchy rain possible\\nPartly cloudy\\nPatchy rain possible\\nPartly cloudy\\nPatchy rain possible\\nPatchy rain possible\\nLight rain shower\\nPatchy rain possible\\nCloudy\\nPartly cloudy\\n\\n## The average weather in Chennai in September [...] | 28 Patchy rain possible 32° /27° | 29 Light rain shower 33° /27° | 30 Patchy rain possible 33° /27° |  |  |  |  | [...] The temperatures in Chennai during September are extremely high, between 27°C and hot as 33°C, drinking water regularly is advisable.\\n\\nYou can expect rain for roughly half of the month of September in Chennai. We’re expecting roughly 8 to 15 days of rain, so your rubber boots and umbrella are going to see plenty of use this month if you’re keen on staying dry.\\n\\nOur weather forecast can give you a great sense of what weather to expect in Chennai in September 2025.\", \"score\": 0.8646883}, {\"title\": \"Chennai Weather Forecast 19 Sep 2025 - Times of India\", \"url\": \"https://timesofindia.indiatimes.com/weather/chennai-weather-forecast-today/600017\", \"content\": \"# Chennai Weather Forecast 19 Sep 2025\\n\\n114111880\\n114111880\\n114111880\\n114111880\\n114111880\\n114111880\\n114111880\\n114111808\\n114111880\\n114111808\\n114111808\\n114111808\\n114111842\\n114111842\\n114111895\\n114111895\\n114111895\\n114111895\\n114111895\\n114111836\\n114111895\\n114111842\\n114111842\\n114111842\\n114111893\\n114111808\\n114111840\\n114111840\\n114111808\\n114111840\\n114111840\\n\\n## Weather in Popular Cities Clear skies or hazardous air? Get the latest weather insights\\n\\n## Related Articles [...] Bengaluru weather: Mild temperatures with rain; AQI remains moderate\\nChennai weather: Moderate temperatures, patchy rain expected today; AQI improves\\nChennai weather: Warm temperatures with rain expected today; AQI remains moderate\\nMumbai weather: Rain expected today; AQI improves\\nKolkata weather: High humidity with moderate rain, AQI remains moderate\\nMumbai weather: Patchy rain expected today with AQI remains moderate\\nBengaluru weather: Rain expected today; AQI improves [...] Hot and humid weather leaves residents restless\\nBad weather prevents resumption of chopper services on Kedar route\\nKolkata weather: High humidity, rain expected today; AQI improves\\nKolkata weather update: Rainy day with good air quality and tips for comfort\\nWeather turns cool with heavy rain, thunder, lightning\\nlogo\", \"score\": 0.8512743}]\n",
      "==================================\u001b[1m Ai Message \u001b[0m==================================\n",
      "\n",
      "The current weather in Chennai is expected to be patchy rain possible with temperatures ranging from 27°C to 33°C. It is advisable to drink water regularly due to the high temperatures. There is also a chance of rain for roughly half of the month of September in Chennai.\n"
     ]
    }
   ],
   "source": [
    "events = graph.stream(None, config=config, stream_mode=\"values\")\n",
    "\n",
    "for event in events:\n",
    "    event[\"messages\"][-1].pretty_print()"
   ]
  }
 ],
 "metadata": {
  "kernelspec": {
   "display_name": "LangGraph-env",
   "language": "python",
   "name": "python3"
  },
  "language_info": {
   "codemirror_mode": {
    "name": "ipython",
    "version": 3
   },
   "file_extension": ".py",
   "mimetype": "text/x-python",
   "name": "python",
   "nbconvert_exporter": "python",
   "pygments_lexer": "ipython3",
   "version": "3.11.13"
  }
 },
 "nbformat": 4,
 "nbformat_minor": 5
}
