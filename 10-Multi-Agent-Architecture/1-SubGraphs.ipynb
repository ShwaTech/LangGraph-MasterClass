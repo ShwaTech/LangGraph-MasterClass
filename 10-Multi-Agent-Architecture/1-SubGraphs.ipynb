{
 "cells": [
  {
   "cell_type": "code",
   "execution_count": 14,
   "id": "b1b21917",
   "metadata": {},
   "outputs": [],
   "source": [
    "from langchain_core.messages import AIMessage, HumanMessage\n",
    "from langchain_groq import ChatGroq\n",
    "from langchain_community.tools.tavily_search import TavilySearchResults\n",
    "from typing import TypedDict, Annotated, Dict\n",
    "from langgraph.graph import add_messages, StateGraph, START, END\n",
    "from langgraph.prebuilt import ToolNode"
   ]
  },
  {
   "cell_type": "code",
   "execution_count": 2,
   "id": "4a4c7e49",
   "metadata": {},
   "outputs": [],
   "source": [
    "import os\n",
    "from dotenv import load_dotenv\n",
    "\n",
    "load_dotenv()\n",
    "\n",
    "os.environ[\"GROQ_API_KEY\"] = os.getenv(\"GROQ_API_KEY\")\n",
    "os.environ[\"TAVILY_API_KEY\"] = os.getenv(\"TAVILY_API_KEY\")"
   ]
  },
  {
   "cell_type": "code",
   "execution_count": 3,
   "id": "4b3ec82b",
   "metadata": {},
   "outputs": [],
   "source": [
    "class ChildState(TypedDict):\n",
    "    messages: Annotated[list, add_messages]"
   ]
  },
  {
   "cell_type": "code",
   "execution_count": 4,
   "id": "d8d0caf8",
   "metadata": {},
   "outputs": [
    {
     "name": "stderr",
     "output_type": "stream",
     "text": [
      "/tmp/ipykernel_31910/1399711242.py:1: LangChainDeprecationWarning: The class `TavilySearchResults` was deprecated in LangChain 0.3.25 and will be removed in 1.0. An updated version of the class exists in the :class:`~langchain-tavily package and should be used instead. To use it run `pip install -U :class:`~langchain-tavily` and import as `from :class:`~langchain_tavily import TavilySearch``.\n",
      "  search_tool = TavilySearchResults(max_results=2)\n"
     ]
    }
   ],
   "source": [
    "search_tool = TavilySearchResults(max_results=2)\n",
    "\n",
    "tools = [search_tool]"
   ]
  },
  {
   "cell_type": "code",
   "execution_count": 5,
   "id": "6f47e719",
   "metadata": {},
   "outputs": [],
   "source": [
    "llm = ChatGroq(model=\"llama-3.3-70b-versatile\")\n",
    "\n",
    "llm_with_tools = llm.bind_tools(tools)"
   ]
  },
  {
   "cell_type": "code",
   "execution_count": 6,
   "id": "aff0a795",
   "metadata": {},
   "outputs": [],
   "source": [
    "def agent(state: ChildState):\n",
    "    return {\n",
    "        \"messages\": [llm_with_tools.invoke(state[\"messages\"])]\n",
    "    }"
   ]
  },
  {
   "cell_type": "code",
   "execution_count": 7,
   "id": "f836eae8",
   "metadata": {},
   "outputs": [],
   "source": [
    "def tools_router(state: ChildState):\n",
    "    last_message = state[\"messages\"][-1]\n",
    "    \n",
    "    if hasattr(last_message, \"tool_calls\") and len(last_message.tool_calls) > 0:\n",
    "        return \"tools\"\n",
    "    else:\n",
    "        return \"end\""
   ]
  },
  {
   "cell_type": "code",
   "execution_count": 8,
   "id": "91c5a56a",
   "metadata": {},
   "outputs": [],
   "source": [
    "tool_node = ToolNode(tools=tools)"
   ]
  },
  {
   "cell_type": "code",
   "execution_count": 9,
   "id": "8fddf881",
   "metadata": {},
   "outputs": [],
   "source": [
    "search_graph_builder = StateGraph(ChildState)\n",
    "\n",
    "search_graph_builder.add_node(\"agent\", agent)\n",
    "search_graph_builder.add_node(\"tool_node\", tool_node)\n",
    "\n",
    "search_graph_builder.set_entry_point(\"agent\")\n",
    "\n",
    "search_graph_builder.add_conditional_edges(\n",
    "    \"agent\",\n",
    "    tools_router,\n",
    "    {\n",
    "        \"tools\": \"tool_node\",\n",
    "        \"end\": END\n",
    "    }\n",
    ")\n",
    "\n",
    "search_graph_builder.add_edge(\"tool_node\", \"agent\")\n",
    "\n",
    "search_graph = search_graph_builder.compile()"
   ]
  },
  {
   "cell_type": "code",
   "execution_count": 10,
   "id": "0dd0695c",
   "metadata": {},
   "outputs": [
    {
     "data": {
      "image/png": "[encoded data removed]",
      "text/plain": [
       "<IPython.core.display.Image object>"
      ]
     },
     "metadata": {},
     "output_type": "display_data"
    }
   ],
   "source": [
    "from IPython.display import Image, display\n",
    "from langchain_core.runnables.graph import MermaidDrawMethod\n",
    "\n",
    "display(\n",
    "    Image(\n",
    "        search_graph.get_graph().draw_mermaid_png(\n",
    "            draw_method=MermaidDrawMethod.API\n",
    "        )\n",
    "    )\n",
    ")"
   ]
  },
  {
   "cell_type": "code",
   "execution_count": 11,
   "id": "fdcbe8c2",
   "metadata": {},
   "outputs": [
    {
     "data": {
      "text/plain": [
       "{'messages': [HumanMessage(content='How is the weather in Chennai?', additional_kwargs={}, response_metadata={}, id='9e9fcd41-32ba-45a8-8dcb-7b5ce68418fb'),\n",
       "  AIMessage(content='', additional_kwargs={'tool_calls': [{'id': '72d76vmga', 'function': {'arguments': '{\"query\":\"Chennai weather\"}', 'name': 'tavily_search_results_json'}, 'type': 'function'}]}, response_metadata={'token_usage': {'completion_tokens': 20, 'prompt_tokens': 285, 'total_tokens': 305, 'completion_time': 0.059831591, 'prompt_time': 0.024425805, 'queue_time': 0.084562409, 'total_time': 0.084257396}, 'model_name': 'llama-3.3-70b-versatile', 'system_fingerprint': 'fp_9e1e8f8435', 'service_tier': 'on_demand', 'finish_reason': 'tool_calls', 'logprobs': None}, id='run--4bb1410c-bdb2-4d9c-9c0b-e010eee883a5-0', tool_calls=[{'name': 'tavily_search_results_json', 'args': {'query': 'Chennai weather'}, 'id': '72d76vmga', 'type': 'tool_call'}], usage_metadata={'input_tokens': 285, 'output_tokens': 20, 'total_tokens': 305}),\n",
       "  ToolMessage(content='[{\"title\": \"Warm temperatures with rain expected; AQI remains good | Chennai ...\", \"url\": \"https://timesofindia.indiatimes.com/city/chennai/chennai-weather-update-warm-afternoon-with-patchy-rain-expected/articleshow/124058889.cms\", \"content\": \"The data for this weather forecast has been sourced from AQI.in, providing residents with comprehensive information to plan their daily activities and weekly schedules accordingly.Chennai is experiencing a mild day on September 23, 2025, with morning temperatures at 27°C expected to rise to 35°C by afternoon, along with an 88% chance of scattered showers.The city recorded good air quality yesterday with an AQI-IN of 49, though early morning commuters are advised to carry masks as pollution [...] Yavatmal Rape\\\\n\\\\nKerala Murder\\\\n\\\\nBengaluru Stabbing\\\\n\\\\n# Chennai weather: Warm temperatures with rain expected; AQI remains good\\\\n\\\\nTIMESOFINDIA.COM / Updated: Sep 23, 2025, 10:17 IST\\\\n\\\\nShare\\\\n\\\\nAA\\\\n\\\\nText Size\\\\n\\\\n Small\\\\n Medium\\\\n Large\", \"score\": 0.96797514}, {\"title\": \"Weather in Chennai in September 2025 - Tripvenue\", \"url\": \"https://tripvenue.com/weather/india/l1264527/chennai/september\", \"content\": \"| Apparent min temperature | 34.9 | 35.2 | 32.7 | 31.7 | 30.7 | 32.8 | 33.3 | 33.7 | 34.3 | 34 | 33.8 | 33.1 | 34 | 32.8 | 34.1 | 33.8 | 32.6 | 32.8 | 33.9 | 34.6 | 33.8 | 34.1 | 34.1 | 33.6 | 34.4 | 32.8 | 34 | 34.1 | 33.8 | 33.7 | [...] ## What is the weather like in Chennai in September 2025?\\\\n\\\\nIn September 2023, the highest daytime temperature in Chennai was 36.1°C.\\\\n\\\\nWhile the minimum temperature at night dropped to 24.6°C.\\\\n\\\\nThe average nighttime and daytime temperatures during September in Chennai are 25.9°C and 33.5°C respectively.\\\\n\\\\nThe precipitation sum in September is about 177 mm.\\\\n\\\\n## Chennai - weather forecast by months\\\\n\\\\nJanuary \\\\nFebruary \\\\nMarch \\\\nApril \\\\nMay \\\\nJune \\\\nJuly \\\\nAugust \\\\nSeptember \\\\nOctober \\\\nNovember \\\\nDecember [...] | Apparent max temperature | 41.2 | 41.4 | 39.3 | 34.5 | 34.8 | 37.4 | 38.5 | 39.1 | 40 | 37.1 | 39.3 | 39.9 | 39.6 | 40.4 | 39.8 | 39.6 | 39.2 | 40.3 | 39.8 | 40.6 | 38.7 | 40.4 | 40.3 | 40.9 | 41.4 | 40.2 | 41.5 | 40.1 | 39.9 | 38.2 |\\\\n| Mean temperature | 29.5 | 29.7 | 28.7 | 28.6 | 27.9 | 29.3 | 28.8 | 29.6 | 30 | 30 | 29.8 | 29.5 | 30.2 | 29.4 | 29.4 | 28.6 | 27.7 | 27.8 | 29.2 | 29.3 | 28.3 | 28.8 | 28.6 | 28.3 | 28.6 | 27.7 | 28.2 | 28.9 | 28.4 | 28.8 |\", \"score\": 0.91023487}]', name='tavily_search_results_json', id='8e467cdf-27d5-43c3-ab9f-78225df1713e', tool_call_id='72d76vmga', artifact={'query': 'Chennai weather', 'follow_up_questions': None, 'answer': None, 'images': [], 'results': [{'url': 'https://timesofindia.indiatimes.com/city/chennai/chennai-weather-update-warm-afternoon-with-patchy-rain-expected/articleshow/124058889.cms', 'title': 'Warm temperatures with rain expected; AQI remains good | Chennai ...', 'content': 'The data for this weather forecast has been sourced from AQI.in, providing residents with comprehensive information to plan their daily activities and weekly schedules accordingly.Chennai is experiencing a mild day on September 23, 2025, with morning temperatures at 27°C expected to rise to 35°C by afternoon, along with an 88% chance of scattered showers.The city recorded good air quality yesterday with an AQI-IN of 49, though early morning commuters are advised to carry masks as pollution [...] Yavatmal Rape\\n\\nKerala Murder\\n\\nBengaluru Stabbing\\n\\n# Chennai weather: Warm temperatures with rain expected; AQI remains good\\n\\nTIMESOFINDIA.COM / Updated: Sep 23, 2025, 10:17 IST\\n\\nShare\\n\\nAA\\n\\nText Size\\n\\n Small\\n Medium\\n Large', 'score': 0.96797514, 'raw_content': None}, {'url': 'https://tripvenue.com/weather/india/l1264527/chennai/september', 'title': 'Weather in Chennai in September 2025 - Tripvenue', 'content': '| Apparent min temperature | 34.9 | 35.2 | 32.7 | 31.7 | 30.7 | 32.8 | 33.3 | 33.7 | 34.3 | 34 | 33.8 | 33.1 | 34 | 32.8 | 34.1 | 33.8 | 32.6 | 32.8 | 33.9 | 34.6 | 33.8 | 34.1 | 34.1 | 33.6 | 34.4 | 32.8 | 34 | 34.1 | 33.8 | 33.7 | [...] ## What is the weather like in Chennai in September 2025?\\n\\nIn September 2023, the highest daytime temperature in Chennai was 36.1°C.\\n\\nWhile the minimum temperature at night dropped to 24.6°C.\\n\\nThe average nighttime and daytime temperatures during September in Chennai are 25.9°C and 33.5°C respectively.\\n\\nThe precipitation sum in September is about 177 mm.\\n\\n## Chennai - weather forecast by months\\n\\nJanuary \\nFebruary \\nMarch \\nApril \\nMay \\nJune \\nJuly \\nAugust \\nSeptember \\nOctober \\nNovember \\nDecember [...] | Apparent max temperature | 41.2 | 41.4 | 39.3 | 34.5 | 34.8 | 37.4 | 38.5 | 39.1 | 40 | 37.1 | 39.3 | 39.9 | 39.6 | 40.4 | 39.8 | 39.6 | 39.2 | 40.3 | 39.8 | 40.6 | 38.7 | 40.4 | 40.3 | 40.9 | 41.4 | 40.2 | 41.5 | 40.1 | 39.9 | 38.2 |\\n| Mean temperature | 29.5 | 29.7 | 28.7 | 28.6 | 27.9 | 29.3 | 28.8 | 29.6 | 30 | 30 | 29.8 | 29.5 | 30.2 | 29.4 | 29.4 | 28.6 | 27.7 | 27.8 | 29.2 | 29.3 | 28.3 | 28.8 | 28.6 | 28.3 | 28.6 | 27.7 | 28.2 | 28.9 | 28.4 | 28.8 |', 'score': 0.91023487, 'raw_content': None}], 'response_time': 2.62, 'request_id': 'dbf093ae-44f3-46ed-9857-c4c9d63b6526'}),\n",
       "  AIMessage(content='The current weather in Chennai is warm with temperatures ranging from 27°C to 35°C and an 88% chance of scattered showers. The air quality is good with an AQI-IN of 49.', additional_kwargs={}, response_metadata={'token_usage': {'completion_tokens': 43, 'prompt_tokens': 1212, 'total_tokens': 1255, 'completion_time': 0.102226537, 'prompt_time': 0.102769335, 'queue_time': 0.087149842, 'total_time': 0.204995872}, 'model_name': 'llama-3.3-70b-versatile', 'system_fingerprint': 'fp_9e1e8f8435', 'service_tier': 'on_demand', 'finish_reason': 'stop', 'logprobs': None}, id='run--b8128b52-b38f-465a-9817-815739b2b811-0', usage_metadata={'input_tokens': 1212, 'output_tokens': 43, 'total_tokens': 1255})]}"
      ]
     },
     "execution_count": 11,
     "metadata": {},
     "output_type": "execute_result"
    }
   ],
   "source": [
    "search_graph.invoke({\"messages\": [HumanMessage(content=\"How is the weather in Chennai?\")]})"
   ]
  },
  {
   "cell_type": "markdown",
   "id": "e2cc41ee",
   "metadata": {},
   "source": [
    "Case 1: Shared Schema (Direct Embedding)"
   ]
  },
  {
   "cell_type": "code",
   "execution_count": 13,
   "id": "3df5e269",
   "metadata": {},
   "outputs": [
    {
     "data": {
      "text/plain": [
       "{'messages': [HumanMessage(content='How is the weather in Chennai?', additional_kwargs={}, response_metadata={}, id='a39b116f-bade-44bd-a366-10a2d30ca862'),\n",
       "  AIMessage(content='', additional_kwargs={'tool_calls': [{'id': '8k1xa2h0q', 'function': {'arguments': '{\"query\":\"Chennai weather today\"}', 'name': 'tavily_search_results_json'}, 'type': 'function'}]}, response_metadata={'token_usage': {'completion_tokens': 21, 'prompt_tokens': 285, 'total_tokens': 306, 'completion_time': 0.064627983, 'prompt_time': 0.023894357, 'queue_time': 2.719450119, 'total_time': 0.08852234}, 'model_name': 'llama-3.3-70b-versatile', 'system_fingerprint': 'fp_9e1e8f8435', 'service_tier': 'on_demand', 'finish_reason': 'tool_calls', 'logprobs': None}, id='run--14c7e525-29b9-4481-a53b-153b2c474bd3-0', tool_calls=[{'name': 'tavily_search_results_json', 'args': {'query': 'Chennai weather today'}, 'id': '8k1xa2h0q', 'type': 'tool_call'}], usage_metadata={'input_tokens': 285, 'output_tokens': 21, 'total_tokens': 306}),\n",
       "  ToolMessage(content='[{\"title\": \"Chennai weather in September 2025 - Weather25.com\", \"url\": \"https://www.weather25.com/asia/india/tamil-nadu/chennai?page=month&month=September\", \"content\": \"weather25.com\\\\nSearch\\\\nweather in India\\\\nRemove from your favorite locations\\\\nAdd to my locations\\\\nShare\\\\nweather in India\\\\n\\\\n# Chennai weather in September 2025\\\\n\\\\nCloudy\\\\nPartly cloudy\\\\nPatchy rain possible\\\\nPatchy rain possible\\\\nOvercast\\\\nCloudy\\\\nThundery outbreaks possible\\\\nThundery outbreaks possible\\\\nPatchy rain possible\\\\nPatchy rain possible\\\\nOvercast\\\\nPatchy rain possible\\\\nLight rain shower\\\\nPatchy rain possible\\\\n\\\\n## The average weather in Chennai in September [...] Patchy rain possible\\\\nThundery outbreaks possible\\\\nModerate or heavy rain shower\\\\nLight rain shower\\\\nPatchy rain possible\\\\nPatchy rain possible\\\\nPatchy rain possible\\\\nPartly cloudy\\\\nLight rain shower\\\\nLight rain shower\\\\nCloudy\\\\nCloudy\\\\nCloudy\\\\nPatchy rain possible\\\\nPatchy rain possible\\\\nLight rain shower\\\\nCloudy\\\\nPatchy rain possible\\\\nThundery outbreaks possible\\\\nPartly cloudy\\\\nPatchy rain possible\\\\nPatchy rain possible\\\\nCloudy\\\\nPartly cloudy\\\\nPatchy rain possible\\\\nPatchy rain possible\\\\nOvercast\\\\nCloudy [...] | 28 Cloudy 35° /28° | 29 Thundery outbreaks possible 33° /28° | 30 Thundery outbreaks possible 34° /28° |  |  |  |  |\", \"score\": 0.89545894}, {\"title\": \"Chennai, Tamil Nadu, India Monthly Weather - AccuWeather\", \"url\": \"https://www.accuweather.com/en/in/chennai/206671/september-weather/206671\", \"content\": \"# Chennai, Tamil Nadu\\\\n\\\\nChennai\\\\n\\\\nTamil Nadu\\\\n\\\\n## Around the Globe\\\\n\\\\nAround the Globe\\\\n\\\\n### Hurricane Tracker\\\\n\\\\n### Severe Weather\\\\n\\\\n### Radar & Maps\\\\n\\\\n### News & Features\\\\n\\\\n### Astronomy\\\\n\\\\n### Business\\\\n\\\\n### Climate\\\\n\\\\n### Health\\\\n\\\\n### Recreation\\\\n\\\\n### Sports\\\\n\\\\n### Travel\\\\n\\\\n### Warnings\\\\n\\\\n### Data Suite\\\\n\\\\n### Forensics\\\\n\\\\n### Advertising\\\\n\\\\n### Superior Accuracy™\\\\n\\\\n### Video\\\\n\\\\n## Monthly\\\\n\\\\n## September\\\\n\\\\n## 2025\\\\n\\\\n## Daily\\\\n\\\\n## Temperature Graph\\\\n\\\\n## Further Ahead\\\\n\\\\nFurther Ahead\\\\n\\\\n### October 2025\\\\n\\\\n### November 2025 [...] NASA selects new astronauts as it chases plans for the moon and Mars\\\\n\\\\n20 hours ago\\\\n\\\\nWeather News\\\\n\\\\nWhy do leaves change color in the fall?\\\\n\\\\n22 hours ago\\\\n\\\\n## Weather Near Chennai:\\\\n\\\\n...\\\\n\\\\n...\\\\n\\\\n... [...] Widespread rain to ease drought, raise flood risk in Central, East\\\\n\\\\n36 minutes ago\\\\n\\\\nRecreation\\\\n\\\\nDeath Valley, one of the driest places in the US, just flooded\\\\n\\\\n35 minutes ago\\\\n\\\\nFeatured Stories\\\\n\\\\nHurricane\\\\n\\\\nHurricane Rita forced one of largest US evacuations in wake of Katrina\\\\n\\\\n3 hours ago\\\\n\\\\nWeather News\\\\n\\\\nWhy meteorological, astronomical fall start on different dates\\\\n\\\\n1 day ago\\\\n\\\\nHurricane\\\\n\\\\nNearly a year after Helene, reopening Blue Ridge Parkway brings hope\\\\n\\\\n1 day ago\\\\n\\\\nAstronomy\", \"score\": 0.5914643}]', name='tavily_search_results_json', id='a473e869-8194-46ca-a266-a52aa724ba38', tool_call_id='8k1xa2h0q', artifact={'query': 'Chennai weather today', 'follow_up_questions': None, 'answer': None, 'images': [], 'results': [{'url': 'https://www.weather25.com/asia/india/tamil-nadu/chennai?page=month&month=September', 'title': 'Chennai weather in September 2025 - Weather25.com', 'content': 'weather25.com\\nSearch\\nweather in India\\nRemove from your favorite locations\\nAdd to my locations\\nShare\\nweather in India\\n\\n# Chennai weather in September 2025\\n\\nCloudy\\nPartly cloudy\\nPatchy rain possible\\nPatchy rain possible\\nOvercast\\nCloudy\\nThundery outbreaks possible\\nThundery outbreaks possible\\nPatchy rain possible\\nPatchy rain possible\\nOvercast\\nPatchy rain possible\\nLight rain shower\\nPatchy rain possible\\n\\n## The average weather in Chennai in September [...] Patchy rain possible\\nThundery outbreaks possible\\nModerate or heavy rain shower\\nLight rain shower\\nPatchy rain possible\\nPatchy rain possible\\nPatchy rain possible\\nPartly cloudy\\nLight rain shower\\nLight rain shower\\nCloudy\\nCloudy\\nCloudy\\nPatchy rain possible\\nPatchy rain possible\\nLight rain shower\\nCloudy\\nPatchy rain possible\\nThundery outbreaks possible\\nPartly cloudy\\nPatchy rain possible\\nPatchy rain possible\\nCloudy\\nPartly cloudy\\nPatchy rain possible\\nPatchy rain possible\\nOvercast\\nCloudy [...] | 28 Cloudy 35° /28° | 29 Thundery outbreaks possible 33° /28° | 30 Thundery outbreaks possible 34° /28° |  |  |  |  |', 'score': 0.89545894, 'raw_content': None}, {'url': 'https://www.accuweather.com/en/in/chennai/206671/september-weather/206671', 'title': 'Chennai, Tamil Nadu, India Monthly Weather - AccuWeather', 'content': '# Chennai, Tamil Nadu\\n\\nChennai\\n\\nTamil Nadu\\n\\n## Around the Globe\\n\\nAround the Globe\\n\\n### Hurricane Tracker\\n\\n### Severe Weather\\n\\n### Radar & Maps\\n\\n### News & Features\\n\\n### Astronomy\\n\\n### Business\\n\\n### Climate\\n\\n### Health\\n\\n### Recreation\\n\\n### Sports\\n\\n### Travel\\n\\n### Warnings\\n\\n### Data Suite\\n\\n### Forensics\\n\\n### Advertising\\n\\n### Superior Accuracy™\\n\\n### Video\\n\\n## Monthly\\n\\n## September\\n\\n## 2025\\n\\n## Daily\\n\\n## Temperature Graph\\n\\n## Further Ahead\\n\\nFurther Ahead\\n\\n### October 2025\\n\\n### November 2025 [...] NASA selects new astronauts as it chases plans for the moon and Mars\\n\\n20 hours ago\\n\\nWeather News\\n\\nWhy do leaves change color in the fall?\\n\\n22 hours ago\\n\\n## Weather Near Chennai:\\n\\n...\\n\\n...\\n\\n... [...] Widespread rain to ease drought, raise flood risk in Central, East\\n\\n36 minutes ago\\n\\nRecreation\\n\\nDeath Valley, one of the driest places in the US, just flooded\\n\\n35 minutes ago\\n\\nFeatured Stories\\n\\nHurricane\\n\\nHurricane Rita forced one of largest US evacuations in wake of Katrina\\n\\n3 hours ago\\n\\nWeather News\\n\\nWhy meteorological, astronomical fall start on different dates\\n\\n1 day ago\\n\\nHurricane\\n\\nNearly a year after Helene, reopening Blue Ridge Parkway brings hope\\n\\n1 day ago\\n\\nAstronomy', 'score': 0.5914643, 'raw_content': None}], 'response_time': 5.25, 'request_id': 'ad4c768f-f693-4434-b543-62d34c10cccc'}),\n",
       "  AIMessage(content='The current weather in Chennai is mostly cloudy with a high chance of patchy rain and thundery outbreaks. The average temperature is around 33-35 degrees Celsius during the day and 28 degrees Celsius at night. It is recommended to check the latest weather forecast for the most up-to-date information.', additional_kwargs={}, response_metadata={'token_usage': {'completion_tokens': 62, 'prompt_tokens': 1053, 'total_tokens': 1115, 'completion_time': 0.175088004, 'prompt_time': 0.103467031, 'queue_time': 0.112446543, 'total_time': 0.278555035}, 'model_name': 'llama-3.3-70b-versatile', 'system_fingerprint': 'fp_9e1e8f8435', 'service_tier': 'on_demand', 'finish_reason': 'stop', 'logprobs': None}, id='run--263c3c8e-ae44-4656-b805-6eed30020650-0', usage_metadata={'input_tokens': 1053, 'output_tokens': 62, 'total_tokens': 1115})]}"
      ]
     },
     "execution_count": 13,
     "metadata": {},
     "output_type": "execute_result"
    }
   ],
   "source": [
    "# Define parent graph with the same schema\n",
    "class ParentState(TypedDict):\n",
    "    messages: Annotated[list, add_messages]\n",
    "\n",
    "# Create parent graph\n",
    "parent_graph_builder = StateGraph(ParentState)\n",
    "\n",
    "# Add the subgraph as a node\n",
    "parent_graph_builder.add_node(\"search_agent\", search_graph)\n",
    "\n",
    "# Connect the flow\n",
    "parent_graph_builder.add_edge(START, \"search_agent\")\n",
    "parent_graph_builder.add_edge(\"search_agent\", END)\n",
    "\n",
    "# Compile parent graph\n",
    "parent_graph = parent_graph_builder.compile()\n",
    "\n",
    "# Run the parent graph\n",
    "result = parent_graph.invoke({\"messages\": [HumanMessage(content=\"How is the weather in Chennai?\")]})\n",
    "result"
   ]
  },
  {
   "cell_type": "markdown",
   "id": "a863da17",
   "metadata": {},
   "source": [
    "Case 2: Different Schema (Invoke with Transformation)"
   ]
  },
  {
   "cell_type": "code",
   "execution_count": 15,
   "id": "3d0fc36b",
   "metadata": {},
   "outputs": [],
   "source": [
    "# Define parent graph with different schema\n",
    "class QueryState(TypedDict):\n",
    "    query: str\n",
    "    response: str"
   ]
  },
  {
   "cell_type": "code",
   "execution_count": 16,
   "id": "ca10588d",
   "metadata": {},
   "outputs": [],
   "source": [
    "# You should have a Function to invoke subgraph\n",
    "def invoke_search_agent(state: QueryState) -> Dict:\n",
    "    # Transform from parent schema to subgraph schema\n",
    "    subgraph_input = {\n",
    "        \"messages\": [HumanMessage(content=state[\"query\"])]\n",
    "    }\n",
    "    \n",
    "    # Invoke subgraph\n",
    "    subgraph_output = search_graph.invoke(subgraph_input)\n",
    "    \n",
    "    # Transform from subgraph schema to parent schema\n",
    "    assistant_message = subgraph_output[\"messages\"][-1]\n",
    "    return {\n",
    "        \"response\": assistant_message.content\n",
    "    }"
   ]
  },
  {
   "cell_type": "code",
   "execution_count": 17,
   "id": "9326e43e",
   "metadata": {},
   "outputs": [],
   "source": [
    "# Create parent graph\n",
    "grandpa_graph_builder = StateGraph(QueryState)\n",
    "\n",
    "# Add transformation node that invokes subgraph\n",
    "grandpa_graph_builder.add_node(\"search_agent\", invoke_search_agent)\n",
    "\n",
    "# Connect the flow\n",
    "grandpa_graph_builder.add_edge(START, \"search_agent\")\n",
    "grandpa_graph_builder.add_edge(\"search_agent\", END)\n",
    "\n",
    "# Compile the graph\n",
    "grandpa_graph = grandpa_graph_builder.compile()\n"
   ]
  },
  {
   "cell_type": "code",
   "execution_count": 18,
   "id": "8bb2c4b0",
   "metadata": {},
   "outputs": [
    {
     "data": {
      "text/plain": [
       "{'query': 'How is the weather in Egypt?',\n",
       " 'response': 'The current weather in Egypt is hot, with temperatures ranging from 22° to 27° in the northern coastal regions and around 32° in the southern cities. The Red Sea resorts, such as Hurghada and Sharm El Sheikh, are experiencing pleasant temperatures, averaging around 30°. There is little rainfall in the southern cities, and the weather is expected to remain hot throughout September, with average temperatures between 71°F and 96°F.'}"
      ]
     },
     "execution_count": 18,
     "metadata": {},
     "output_type": "execute_result"
    }
   ],
   "source": [
    "grandpa_graph.invoke({\n",
    "    \"query\": \"How is the weather in Egypt?\",\n",
    "    \"response\": \"\"\n",
    "})"
   ]
  },
  {
   "cell_type": "code",
   "execution_count": null,
   "id": "c8c0bf74",
   "metadata": {},
   "outputs": [],
   "source": []
  }
 ],
 "metadata": {
  "kernelspec": {
   "display_name": "LangGraph-env",
   "language": "python",
   "name": "python3"
  },
  "language_info": {
   "codemirror_mode": {
    "name": "ipython",
    "version": 3
   },
   "file_extension": ".py",
   "mimetype": "text/x-python",
   "name": "python",
   "nbconvert_exporter": "python",
   "pygments_lexer": "ipython3",
   "version": "3.11.13"
  }
 },
 "nbformat": 4,
 "nbformat_minor": 5
}
