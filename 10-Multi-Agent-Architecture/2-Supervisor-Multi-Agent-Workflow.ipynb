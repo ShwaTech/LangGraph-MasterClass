{
 "cells": [
  {
   "cell_type": "code",
   "execution_count": 1,
   "id": "45a5aedd",
   "metadata": {},
   "outputs": [],
   "source": [
    "from typing import Annotated, Sequence, List, Literal \n",
    "from pydantic import BaseModel, Field\n",
    "from langchain_core.messages import HumanMessage\n",
    "from langgraph.types import Command \n",
    "from langgraph.graph import StateGraph, START, END, MessagesState\n",
    "from langgraph.prebuilt import create_react_agent \n",
    "from IPython.display import Image, display "
   ]
  },
  {
   "cell_type": "code",
   "execution_count": 2,
   "id": "7b68f460",
   "metadata": {},
   "outputs": [],
   "source": [
    "import os\n",
    "from dotenv import load_dotenv\n",
    "\n",
    "load_dotenv()\n",
    "\n",
    "os.environ[\"GROQ_API_KEY\"] = os.getenv(\"GROQ_API_KEY\")\n",
    "os.environ[\"TAVILY_API_KEY\"] = os.getenv(\"TAVILY_API_KEY\")"
   ]
  },
  {
   "cell_type": "code",
   "execution_count": 3,
   "id": "158558c7",
   "metadata": {},
   "outputs": [],
   "source": [
    "from langchain_groq import ChatGroq\n",
    "\n",
    "llm = ChatGroq(model=\"llama-3.3-70b-versatile\")"
   ]
  },
  {
   "cell_type": "code",
   "execution_count": 4,
   "id": "5f00f74c",
   "metadata": {},
   "outputs": [
    {
     "name": "stderr",
     "output_type": "stream",
     "text": [
      "/tmp/ipykernel_39068/2724907137.py:3: LangChainDeprecationWarning: The class `TavilySearchResults` was deprecated in LangChain 0.3.25 and will be removed in 1.0. An updated version of the class exists in the :class:`~langchain-tavily package and should be used instead. To use it run `pip install -U :class:`~langchain-tavily` and import as `from :class:`~langchain_tavily import TavilySearch``.\n",
      "  tavily_search = TavilySearchResults(max_results=2)\n"
     ]
    }
   ],
   "source": [
    "from langchain_community.tools.tavily_search import TavilySearchResults \n",
    "\n",
    "tavily_search = TavilySearchResults(max_results=2)"
   ]
  },
  {
   "cell_type": "code",
   "execution_count": 5,
   "id": "0db473ef",
   "metadata": {},
   "outputs": [
    {
     "name": "stderr",
     "output_type": "stream",
     "text": [
      "Python REPL can execute arbitrary code. Use with caution.\n"
     ]
    },
    {
     "data": {
      "text/plain": [
       "'x -> 3\\n'"
      ]
     },
     "execution_count": 5,
     "metadata": {},
     "output_type": "execute_result"
    }
   ],
   "source": [
    "from langchain_experimental.tools import PythonREPLTool\n",
    "\n",
    "python_repl_tool = PythonREPLTool()\n",
    "\n",
    "python_repl_tool.invoke(\"x=3; print('x ->', x)\")"
   ]
  },
  {
   "cell_type": "markdown",
   "id": "4d300204",
   "metadata": {},
   "source": [
    "Supervisor Agent"
   ]
  },
  {
   "cell_type": "code",
   "execution_count": 6,
   "id": "0bf103b3",
   "metadata": {},
   "outputs": [],
   "source": [
    "class Supervisor(BaseModel):\n",
    "    next: Literal[\"enhancer\", \"researcher\", \"coder\"] = Field(\n",
    "        description = (\n",
    "            \"Determines which specialist to activate next in the workflow sequence: \"\n",
    "            \"'enhancer' when user input requires clarification, expansion, or refinement, \"\n",
    "            \"'researcher' when additional facts, context, or data collection is necessary, \"\n",
    "            \"'coder' when implementation, computation, or technical problem-solving is required.\"\n",
    "        )\n",
    "    )\n",
    "    reason: str = Field(\n",
    "        description=\"Detailed justification for the routing decision, explaining the rationale behind selecting the particular specialist and how this advances the task toward completion.\"\n",
    "    )\n",
    "\n",
    "\n",
    "def supervisor_node(state: MessagesState) -> Command[Literal[\"enhancer\", \"researcher\", \"coder\"]]:\n",
    "\n",
    "    system_prompt = ('''\n",
    "        You are a workflow supervisor managing a team of three specialized agents: Prompt Enhancer, Researcher, and Coder. Your role is to orchestrate the workflow by selecting the most appropriate next agent based on the current state and needs of the task. Provide a clear, concise rationale for each decision to ensure transparency in your decision-making process.\n",
    "\n",
    "        **Team Members**:\n",
    "        1. **Prompt Enhancer**: Always consider this agent first. They clarify ambiguous requests, improve poorly defined queries, and ensure the task is well-structured before deeper processing begins.\n",
    "        2. **Researcher**: Specializes in information gathering, fact-finding, and collecting relevant data needed to address the user's request.\n",
    "        3. **Coder**: Focuses on technical implementation, calculations, data analysis, algorithm development, and coding solutions.\n",
    "\n",
    "        **Your Responsibilities**:\n",
    "        1. Analyze each user request and agent response for completeness, accuracy, and relevance.\n",
    "        2. Route the task to the most appropriate agent at each decision point.\n",
    "        3. Maintain workflow momentum by avoiding redundant agent assignments.\n",
    "        4. Continue the process until the user's request is fully and satisfactorily resolved.\n",
    "\n",
    "        Your objective is to create an efficient workflow that leverages each agent's strengths while minimizing unnecessary steps, ultimately delivering complete and accurate solutions to user requests.\n",
    "    ''')\n",
    "    \n",
    "    messages = [\n",
    "        {\"role\": \"system\", \"content\": system_prompt},  \n",
    "    ] + state[\"messages\"] \n",
    "\n",
    "    response = llm.with_structured_output(Supervisor).invoke(messages)\n",
    "\n",
    "    goto = response.next\n",
    "    reason = response.reason\n",
    "\n",
    "    print(f\"--- Workflow Transition: Supervisor → {goto.upper()} ---\")\n",
    "    \n",
    "    return Command(\n",
    "        update={\n",
    "            \"messages\": [\n",
    "                HumanMessage(content=reason, name=\"supervisor\")\n",
    "            ]\n",
    "        },\n",
    "        goto=goto,  \n",
    "    )"
   ]
  },
  {
   "cell_type": "markdown",
   "id": "1992f85b",
   "metadata": {},
   "source": [
    "Prompt Enhancer Agent"
   ]
  },
  {
   "cell_type": "code",
   "execution_count": 7,
   "id": "927f3ed0",
   "metadata": {},
   "outputs": [],
   "source": [
    "def enhancer_node(state: MessagesState) -> Command[Literal[\"supervisor\"]]:\n",
    "    \"\"\"\n",
    "        Enhancer agent node that improves and clarifies user queries.\n",
    "        Takes the original user input and transforms it into a more precise,\n",
    "        actionable request before passing it to the supervisor.\n",
    "    \"\"\"\n",
    "    \n",
    "    system_prompt = (\n",
    "        \"You are a Query Refinement Specialist with expertise in transforming vague requests into precise instructions. Your responsibilities include:\\n\\n\"\n",
    "        \"1. Analyzing the original query to identify key intent and requirements\\n\"\n",
    "        \"2. Resolving any ambiguities without requesting additional user input\\n\"\n",
    "        \"3. Expanding underdeveloped aspects of the query with reasonable assumptions\\n\"\n",
    "        \"4. Restructuring the query for clarity and actionability\\n\"\n",
    "        \"5. Ensuring all technical terminology is properly defined in context\\n\\n\"\n",
    "        \"Important: Never ask questions back to the user. Instead, make informed assumptions and create the most comprehensive version of their request possible.\"\n",
    "    )\n",
    "\n",
    "    messages = [\n",
    "        {\"role\": \"system\", \"content\": system_prompt},  \n",
    "    ] + state[\"messages\"]  \n",
    "\n",
    "    enhanced_query = llm.invoke(messages)\n",
    "\n",
    "    print(f\"--- Workflow Transition: Prompt Enhancer → Supervisor ---\")\n",
    "\n",
    "    return Command(\n",
    "        update={\n",
    "            \"messages\": [  \n",
    "                HumanMessage(\n",
    "                    content=enhanced_query.content, \n",
    "                    name=\"enhancer\"  \n",
    "                )\n",
    "            ]\n",
    "        },\n",
    "        goto=\"supervisor\", \n",
    "    )"
   ]
  },
  {
   "cell_type": "markdown",
   "id": "b8054bbb",
   "metadata": {},
   "source": [
    "Researcher Agent"
   ]
  },
  {
   "cell_type": "code",
   "execution_count": 8,
   "id": "e081eba6",
   "metadata": {},
   "outputs": [],
   "source": [
    "def research_node(state: MessagesState) -> Command[Literal[\"validator\"]]:\n",
    "    \"\"\"\n",
    "        Research agent node that gathers information using Tavily search.\n",
    "        Takes the current task state, performs relevant research,\n",
    "        and returns findings for validation.\n",
    "    \"\"\"\n",
    "    \n",
    "    research_agent = create_react_agent(\n",
    "        llm,  \n",
    "        tools=[tavily_search],\n",
    "        prompt=(\n",
    "            \"You are an Information Specialist with expertise in comprehensive research. Your responsibilities include:\\n\\n\"\n",
    "            \"1. Identifying key information needs based on the query context\\n\"\n",
    "            \"2. Gathering relevant, accurate, and up-to-date information from reliable sources\\n\"\n",
    "            \"3. Organizing findings in a structured, easily digestible format\\n\"\n",
    "            \"4. Citing sources when possible to establish credibility\\n\"\n",
    "            \"5. Focusing exclusively on information gathering - avoid analysis or implementation\\n\\n\"\n",
    "            \"Provide thorough, factual responses without speculation where information is unavailable.\"\n",
    "        )\n",
    "    )\n",
    "\n",
    "    result = research_agent.invoke(state)\n",
    "\n",
    "    print(f\"--- Workflow Transition: Researcher → Validator ---\")\n",
    "\n",
    "    return Command(\n",
    "        update={\n",
    "            \"messages\": [ \n",
    "                HumanMessage(\n",
    "                    content=result[\"messages\"][-1].content,  \n",
    "                    name=\"researcher\"  \n",
    "                )\n",
    "            ]\n",
    "        },\n",
    "        goto=\"validator\",\n",
    "    )"
   ]
  },
  {
   "cell_type": "markdown",
   "id": "c6375e8c",
   "metadata": {},
   "source": [
    "Coder Agent"
   ]
  },
  {
   "cell_type": "code",
   "execution_count": 9,
   "id": "f1d9ac04",
   "metadata": {},
   "outputs": [],
   "source": [
    "def code_node(state: MessagesState) -> Command[Literal[\"validator\"]]:\n",
    "\n",
    "    code_agent = create_react_agent(\n",
    "        llm,\n",
    "        tools=[python_repl_tool],\n",
    "        prompt=(\n",
    "            \"You are a coder and analyst. Focus on mathematical calculations, analyzing, solving math questions, \"\n",
    "            \"and executing code. Handle technical problem-solving and data tasks.\"\n",
    "        )\n",
    "    )\n",
    "\n",
    "    result = code_agent.invoke(state)\n",
    "\n",
    "    print(f\"--- Workflow Transition: Coder → Validator ---\")\n",
    "\n",
    "    return Command(\n",
    "        update={\n",
    "            \"messages\": [\n",
    "                HumanMessage(content=result[\"messages\"][-1].content, name=\"coder\")\n",
    "            ]\n",
    "        },\n",
    "        goto=\"validator\",\n",
    "    )"
   ]
  },
  {
   "cell_type": "markdown",
   "id": "6fc2c7b3",
   "metadata": {},
   "source": [
    "Validator Agent"
   ]
  },
  {
   "cell_type": "code",
   "execution_count": 10,
   "id": "b65e7b47",
   "metadata": {},
   "outputs": [],
   "source": [
    "# System prompt providing clear instructions to the validator agent\n",
    "\n",
    "system_prompt = '''\n",
    "    Your task is to ensure reasonable quality. \n",
    "    Specifically, you must:\n",
    "    - Review the user's question (the first message in the workflow).\n",
    "    - Review the answer (the last message in the workflow).\n",
    "    - If the answer addresses the core intent of the question, even if not perfectly, signal to end the workflow with 'FINISH'.\n",
    "    - Only route back to the supervisor if the answer is completely off-topic, harmful, or fundamentally misunderstands the question.\n",
    "    \n",
    "    - Accept answers that are \"good enough\" rather than perfect\n",
    "    - Prioritize workflow completion over perfect responses\n",
    "    - Give benefit of doubt to borderline answers\n",
    "    \n",
    "    Routing Guidelines:\n",
    "    1. 'supervisor' Agent: ONLY for responses that are completely incorrect or off-topic.\n",
    "    2. Respond with 'FINISH' in all other cases to end the workflow.\n",
    "'''\n",
    "\n",
    "\n",
    "class Validator(BaseModel):\n",
    "    next: Literal[\"supervisor\", \"FINISH\"] = Field(\n",
    "        description=\"Specifies the next worker in the pipeline: 'supervisor' to continue or 'FINISH' to terminate.\"\n",
    "    )\n",
    "    reason: str = Field(\n",
    "        description=\"The reason for the decision.\"\n",
    "    )\n",
    "\n",
    "\n",
    "\n",
    "def validator_node(state: MessagesState) -> Command[Literal[\"supervisor\", \"__end__\"]]:\n",
    "\n",
    "    user_question = state[\"messages\"][0].content\n",
    "    agent_answer = state[\"messages\"][-1].content\n",
    "\n",
    "    messages = [\n",
    "        {\"role\": \"system\", \"content\": system_prompt},\n",
    "        {\"role\": \"user\", \"content\": user_question},\n",
    "        {\"role\": \"assistant\", \"content\": agent_answer},\n",
    "    ]\n",
    "\n",
    "    response = llm.with_structured_output(Validator).invoke(messages)\n",
    "\n",
    "    goto = response.next\n",
    "    reason = response.reason\n",
    "\n",
    "    if goto == \"FINISH\" or goto == END:\n",
    "        goto = END  \n",
    "        print(\" --- Transitioning to END ---\")  \n",
    "    else:\n",
    "        print(f\"--- Workflow Transition: Validator → Supervisor ---\")\n",
    "\n",
    "    return Command(\n",
    "        update={\n",
    "            \"messages\": [\n",
    "                HumanMessage(content=reason, name=\"validator\")\n",
    "            ]\n",
    "        },\n",
    "        goto=goto, \n",
    "    )"
   ]
  },
  {
   "cell_type": "code",
   "execution_count": 11,
   "id": "39a40c4c",
   "metadata": {},
   "outputs": [],
   "source": [
    "graph_builder = StateGraph(MessagesState)\n",
    "\n",
    "graph_builder.add_node(\"supervisor\", supervisor_node) \n",
    "graph_builder.add_node(\"enhancer\", enhancer_node)  \n",
    "graph_builder.add_node(\"researcher\", research_node) \n",
    "graph_builder.add_node(\"coder\", code_node) \n",
    "graph_builder.add_node(\"validator\", validator_node)  \n",
    "\n",
    "graph_builder.add_edge(START, \"supervisor\")\n",
    "\n",
    "graph = graph_builder.compile()\n"
   ]
  },
  {
   "cell_type": "code",
   "execution_count": 12,
   "id": "dee0f3b5",
   "metadata": {},
   "outputs": [
    {
     "data": {
      "image/png": "[encoded data removed]",
      "text/plain": [
       "<IPython.core.display.Image object>"
      ]
     },
     "metadata": {},
     "output_type": "display_data"
    }
   ],
   "source": [
    "display(Image(graph.get_graph().draw_mermaid_png()))"
   ]
  },
  {
   "cell_type": "markdown",
   "id": "94d23f9a",
   "metadata": {},
   "source": [
    "TESTING"
   ]
  },
  {
   "cell_type": "code",
   "execution_count": 13,
   "id": "10907c66",
   "metadata": {},
   "outputs": [
    {
     "name": "stdout",
     "output_type": "stream",
     "text": [
      "--- Workflow Transition: Supervisor → ENHANCER ---\n",
      "\"Output from node 'supervisor':\"\n",
      "HumanMessage(content=\"The user query 'Weather in Egypt?' is too broad and lacks specificity. The Prompt Enhancer should first refine the query to clarify what aspect of Egypt's weather the user is interested in, such as current weather, forecast, weather by season, or weather in a specific region of Egypt.\", additional_kwargs={}, response_metadata={}, name='supervisor', id='041fec5b-6c7f-4eab-9d93-a01ff5ae2049')\n",
      "\n",
      "--- Workflow Transition: Prompt Enhancer → Supervisor ---\n",
      "\"Output from node 'enhancer':\"\n",
      "HumanMessage(content=\"To refine the query 'Weather in Egypt?', I will make some informed assumptions to create a more comprehensive and actionable request.\\n\\nAssuming the user is interested in general information about Egypt's climate, I will expand the query to: 'What are the typical weather conditions in Egypt throughout the year, including temperature, humidity, and precipitation patterns, and how do they vary by season and region?'\\n\\nThis refined query allows for a more detailed and informative response, covering aspects such as:\\n\\n1. **Seasonal weather patterns**: Describing the characteristic weather conditions during winter (December to February), spring (March to May), summer (June to August), and autumn (September to November) in Egypt.\\n2. **Regional weather variations**: Highlighting the differences in weather conditions across various regions of Egypt, including the Nile Valley, the Nile Delta, the Western Desert, and the Sinai Peninsula.\\n3. **Temperature and humidity**: Providing average temperature and humidity levels for different regions and seasons, to give the user a better understanding of what to expect.\\n4. **Precipitation patterns**: Including information on rainfall, snowfall, and other forms of precipitation, to help the user plan accordingly.\\n\\nBy refining the query in this way, I can provide a more comprehensive and informative response that addresses the user's likely interests and needs.\", additional_kwargs={}, response_metadata={}, name='enhancer', id='39b24c90-ad7f-4a42-9790-2605c30c2365')\n",
      "\n",
      "--- Workflow Transition: Supervisor → RESEARCHER ---\n",
      "\"Output from node 'supervisor':\"\n",
      "HumanMessage(content=\"The query 'Weather in Egypt?' has been refined to 'What are the typical weather conditions in Egypt throughout the year, including temperature, humidity, and precipitation patterns, and how do they vary by season and region?' and now requires additional facts, context, or data collection to provide a detailed and informative response.\", additional_kwargs={}, response_metadata={}, name='supervisor', id='ae336fa5-5f74-4a0d-ae04-145bbb5d0fd0')\n",
      "\n",
      "--- Workflow Transition: Researcher → Validator ---\n",
      "\"Output from node 'researcher':\"\n",
      "HumanMessage(content='The typical weather conditions in Egypt throughout the year vary by season and region. \\n\\nIn the winter (December to February), Egypt experiences mild temperatures, making it an ideal time for travel. The daytime temperatures range from the low to mid-20s Celsius (mid-70s to low 80s Fahrenheit) in Cairo and Luxor, while southern areas like Aswan can be slightly warmer. \\n\\nIn the spring (March to May), the weather is pleasant, with daytime temperatures in Cairo ranging from 14°C to 23°C (57°F to 73°F), while southern cities see temperatures between 22°C and 29°C (72°F to 84°F). \\n\\nSummer (June to August) is very hot, especially in desert regions and Upper Egypt, with average temperatures of 40° C (104° F). \\n\\nAutumn (September to November) sees a transition to more pleasant weather, with daytime temperatures in Cairo ranging from 20°C to 32°C (68°F to 90°F), while southern cities enjoy milder temperatures ranging from 29°C to 36°C (84°F to 97°F). \\n\\nRegional variations also play a significant role, with the Nile Valley, Nile Delta, Western Desert, and Sinai Peninsula experiencing different weather conditions. The weather in Egypt has an arid Sahara climate, which is generally sunny, but the country follows much of the same seasonal patterns as Europe and the USA. \\n\\nOverall, the best time to visit Egypt is during the spring (March to May) and autumn (September to November), when the weather is pleasant and ideal for outdoor exploration.', additional_kwargs={}, response_metadata={}, name='researcher', id='a96e2fde-cf6d-414a-81eb-b3e8642e8730')\n",
      "\n",
      " --- Transitioning to END ---\n",
      "\"Output from node 'validator':\"\n",
      "HumanMessage(content='The answer provides relevant information about the weather in Egypt, addressing the core intent of the question.', additional_kwargs={}, response_metadata={}, name='validator', id='9a1bc18b-05af-4cca-bd6e-3ab09fc67714')\n",
      "\n"
     ]
    }
   ],
   "source": [
    "from pprint import pprint\n",
    "\n",
    "inputs = {\n",
    "    \"messages\": [\n",
    "        (\"user\", \"Weather in Egypt?\"),\n",
    "    ]\n",
    "}\n",
    "\n",
    "for event in graph.stream(inputs):\n",
    "    for key, value in event.items():\n",
    "        if value is None:\n",
    "            continue\n",
    "        last_message = value.get(\"messages\", [])[-1] if \"messages\" in value else None\n",
    "        if last_message:\n",
    "            pprint(f\"Output from node '{key}':\")\n",
    "            pprint(last_message, indent=2, width=80, depth=None)\n",
    "            print()"
   ]
  },
  {
   "cell_type": "code",
   "execution_count": 15,
   "id": "e5561cbe",
   "metadata": {},
   "outputs": [
    {
     "name": "stdout",
     "output_type": "stream",
     "text": [
      "--- Workflow Transition: Supervisor → CODER ---\n",
      "\"Output from node 'supervisor':\"\n",
      "HumanMessage(content='To find the 20th Fibonacci number, we need to perform a calculation that involves a sequence of numbers where each number is the sum of the two preceding ones, usually starting with 0 and 1. This task requires technical implementation and calculation, which is best handled by the Coder.', additional_kwargs={}, response_metadata={}, name='supervisor', id='eae818d9-8797-44e5-8bc4-3ab1d30b2c5f')\n",
      "\n",
      "--- Workflow Transition: Coder → Validator ---\n",
      "\"Output from node 'coder':\"\n",
      "HumanMessage(content='The 20th Fibonacci number is 6765.', additional_kwargs={}, response_metadata={}, name='coder', id='6d423dc5-5d9c-4b98-93bf-9361005e8131')\n",
      "\n",
      " --- Transitioning to END ---\n",
      "\"Output from node 'validator':\"\n",
      "HumanMessage(content='The answer is correct and addresses the core intent of the question.', additional_kwargs={}, response_metadata={}, name='validator', id='00bb89a9-cbd3-4ca3-bfa6-4640233b625c')\n",
      "\n"
     ]
    }
   ],
   "source": [
    "from pprint import pprint\n",
    "\n",
    "inputs = {\n",
    "    \"messages\": [\n",
    "        (\"user\", \"Give me the 20th fibonacci number\"),\n",
    "    ]\n",
    "}\n",
    "\n",
    "for event in graph.stream(inputs):\n",
    "    for key, value in event.items():\n",
    "        if value is None:\n",
    "            continue\n",
    "        last_message = value.get(\"messages\", [])[-1] if \"messages\" in value else None\n",
    "        if last_message:\n",
    "            pprint(f\"Output from node '{key}':\")\n",
    "            pprint(last_message, indent=2, width=80, depth=None)\n",
    "            print()"
   ]
  },
  {
   "cell_type": "code",
   "execution_count": null,
   "id": "dcc789f7",
   "metadata": {},
   "outputs": [],
   "source": []
  }
 ],
 "metadata": {
  "kernelspec": {
   "display_name": "LangGraph-env",
   "language": "python",
   "name": "python3"
  },
  "language_info": {
   "codemirror_mode": {
    "name": "ipython",
    "version": 3
   },
   "file_extension": ".py",
   "mimetype": "text/x-python",
   "name": "python",
   "nbconvert_exporter": "python",
   "pygments_lexer": "ipython3",
   "version": "3.11.13"
  }
 },
 "nbformat": 4,
 "nbformat_minor": 5
}
